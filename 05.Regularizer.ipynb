{
 "cells": [
  {
   "cell_type": "code",
   "execution_count": null,
   "id": "bdc640b1",
   "metadata": {},
   "outputs": [],
   "source": [
    "# import libraries\n",
    "import torch\n",
    "import torch.nn as nn\n",
    "import numpy as np\n",
    "\n",
    "from sklearn.model_selection import train_test_split\n",
    "import matplotlib.pyplot as plt"
   ]
  },
  {
   "cell_type": "markdown",
   "id": "17fe53e8",
   "metadata": {},
   "source": [
    "## Regularization"
   ]
  },
  {
   "cell_type": "markdown",
   "id": "94919823",
   "metadata": {},
   "source": [
    "- Penalizes memorization of exaples\n",
    "- Helps model generalize on unseen data.\n",
    "- Changes the representation of learning(either more sparse or more distributed depending on regularizer)\n",
    "\n",
    "\n",
    "### Observation with Regularization\n",
    "- Can increase or decrease the training time.\n",
    "- Can decrease training accuracy but increase generalization.\n",
    "- Works better with complex models.\n",
    "- Workes better with large datasets\n",
    "\n",
    "### Family of Regularizer\n",
    "\n",
    "1. **Node Regularization** : Modify the Model - Dropout\n",
    "2. **Loss Regularization** : Add cost to Loss Function - L1/L2\n",
    "3. **Data Regularization** : Modify or add data : Batch training, data augmentation"
   ]
  },
  {
   "cell_type": "code",
   "execution_count": null,
   "metadata": {},
   "outputs": [],
   "source": []
  },
  {
   "cell_type": "markdown",
   "id": "340f1de5",
   "metadata": {},
   "source": []
  }
 ],
 "metadata": {
  "kernelspec": {
   "display_name": "pytorch",
   "language": "python",
   "name": "python3"
  },
  "language_info": {
   "name": "python",
   "version": "3.11.11"
  }
 },
 "nbformat": 4,
 "nbformat_minor": 5
}
