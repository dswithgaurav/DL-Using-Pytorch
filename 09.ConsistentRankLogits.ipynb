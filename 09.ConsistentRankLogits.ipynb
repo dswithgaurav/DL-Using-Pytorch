{
 "cells": [
  {
   "cell_type": "markdown",
   "id": "c02aa02a",
   "metadata": {},
   "source": [
    "### Implementing CORAL\n"
   ]
  },
  {
   "cell_type": "code",
   "execution_count": null,
   "id": "78d9812f",
   "metadata": {},
   "outputs": [],
   "source": [
    "import torch\n",
    "import torch.nn as nn\n",
    "import torch.optim as optim\n",
    "import numpy as np"
   ]
  },
  {
   "cell_type": "code",
   "execution_count": null,
   "id": "2d4772bf",
   "metadata": {},
   "outputs": [],
   "source": [
    "def transform_labels_to_binary(y, num_classes):    \n",
    "    transformed_labels = torch.zeros(y.shape[0], num_classes-1)\n",
    "    \n",
    "    for idx, label in enumerate(y):\n",
    "        transformed_labels[idx, 0:label] = 1\n",
    "        \n",
    "    return transformed_labels"
   ]
  },
  {
   "cell_type": "code",
   "execution_count": null,
   "id": "15f27a0d",
   "metadata": {},
   "outputs": [],
   "source": [
    "y = torch.tensor([0, 2, 3, 1, 2])\n",
    "\n",
    "num_classes = len(y.unique())\n",
    "\n",
    "transform_labels_to_binary(y, num_classes)"
   ]
  },
  {
   "cell_type": "markdown",
   "id": "b0b6fbac",
   "metadata": {},
   "source": [
    "### Building Model"
   ]
  },
  {
   "cell_type": "code",
   "execution_count": null,
   "id": "1790db78",
   "metadata": {},
   "outputs": [],
   "source": [
    "class OrdinalClassifier(nn.Module):\n",
    "    def __init__(self, input_size, hidden_size, num_classes):\n",
    "        super(OrdinalClassifier, self).__init__()\n",
    "        \n",
    "        # define layers\n",
    "        self.fc1 = nn.Linear(input_size, hidden_size)\n",
    "        self.fc2 = nn.Linear(hidden_size, hidden_size)\n",
    "        self.fc3 = nn.Linear(hidden_size, num_classes - 1)\n",
    "        \n",
    "        # independent bias \n",
    "        self.biases = nn.Parameter(torch.zeros(num_classes - 1))\n",
    "\n",
    "    def forward(self, x):\n",
    "        \n",
    "        # compute layer output\n",
    "        x = torch.relu(self.fc1(x))\n",
    "        x = torch.relu(self.fc2(x))\n",
    "        output = self.fc3(x)\n",
    "        \n",
    "        # add bias term\n",
    "        output += self.biases\n",
    "        \n",
    "        # return sigmoid\n",
    "        return torch.sigmoid(output)"
   ]
  },
  {
   "cell_type": "code",
   "execution_count": null,
   "id": "854a9725",
   "metadata": {},
   "outputs": [],
   "source": [
    "loss = nn.BCELoss()\n",
    "\n",
    "\n",
    "X = torch.rand((5, 2))\n",
    "y = torch.tensor([0, 2, 3, 1, 2])"
   ]
  },
  {
   "cell_type": "code",
   "execution_count": null,
   "id": "a5e43e4b",
   "metadata": {},
   "outputs": [],
   "source": [
    "transformed_labels = transform_labels_to_binary(y, len(y.unique()))"
   ]
  },
  {
   "cell_type": "code",
   "execution_count": null,
   "id": "63d37a17",
   "metadata": {},
   "outputs": [],
   "source": [
    "model = OrdinalClassifier(2, 5, num_classes)"
   ]
  },
  {
   "cell_type": "code",
   "execution_count": null,
   "id": "de04baf2",
   "metadata": {},
   "outputs": [],
   "source": [
    "output = model(X)\n",
    "output"
   ]
  },
  {
   "cell_type": "code",
   "execution_count": null,
   "id": "4a02ccfb",
   "metadata": {},
   "outputs": [],
   "source": [
    "loss_value = loss(output, transformed_labels)"
   ]
  },
  {
   "cell_type": "code",
   "execution_count": null,
   "id": "34058806",
   "metadata": {},
   "outputs": [],
   "source": [
    "for i in range(100):\n",
    "    optimizer = optim.Adam(model.parameters(), lr=0.01)\n",
    "    optimizer.zero_grad()\n",
    "    \n",
    "    # forward pass\n",
    "    output = model(X)\n",
    "    \n",
    "    # compute loss\n",
    "    loss_value = loss(output, transformed_labels)\n",
    "    \n",
    "    # backward pass\n",
    "    loss_value.backward()\n",
    "    \n",
    "    # update weights\n",
    "    optimizer.step()\n",
    "    \n",
    "    if i % 10 == 0:\n",
    "        print(f\"Epoch {i}, Loss: {loss_value.item()}\")"
   ]
  },
  {
   "cell_type": "code",
   "execution_count": null,
   "id": "17a8b920",
   "metadata": {},
   "outputs": [],
   "source": [
    "model.eval()\n",
    "output = model(X)\n",
    "output"
   ]
  },
  {
   "cell_type": "markdown",
   "id": "67d5c669",
   "metadata": {},
   "source": [
    "### CORAL For Sentense Classification"
   ]
  },
  {
   "cell_type": "code",
   "execution_count": null,
   "id": "f5fe3f2a",
   "metadata": {},
   "outputs": [],
   "source": [
    "# pip install sentence-transformers"
   ]
  },
  {
   "cell_type": "code",
   "execution_count": 1,
   "id": "8ae09e6e",
   "metadata": {},
   "outputs": [
    {
     "name": "stderr",
     "output_type": "stream",
     "text": [
      "/Users/g/miniconda3/envs/pytorch/lib/python3.11/site-packages/tqdm/auto.py:21: TqdmWarning: IProgress not found. Please update jupyter and ipywidgets. See https://ipywidgets.readthedocs.io/en/stable/user_install.html\n",
      "  from .autonotebook import tqdm as notebook_tqdm\n"
     ]
    }
   ],
   "source": [
    "from sentence_transformers import SentenceTransformer\n",
    "import pandas as pd\n",
    "import numpy as np\n",
    "\n",
    "from sklearn.model_selection import train_test_split\n",
    "import torch\n",
    "import torch.nn as nn"
   ]
  },
  {
   "cell_type": "code",
   "execution_count": 2,
   "id": "34706376",
   "metadata": {},
   "outputs": [
    {
     "data": {
      "text/html": [
       "<div>\n",
       "<style scoped>\n",
       "    .dataframe tbody tr th:only-of-type {\n",
       "        vertical-align: middle;\n",
       "    }\n",
       "\n",
       "    .dataframe tbody tr th {\n",
       "        vertical-align: top;\n",
       "    }\n",
       "\n",
       "    .dataframe thead th {\n",
       "        text-align: right;\n",
       "    }\n",
       "</style>\n",
       "<table border=\"1\" class=\"dataframe\">\n",
       "  <thead>\n",
       "    <tr style=\"text-align: right;\">\n",
       "      <th></th>\n",
       "      <th>Review</th>\n",
       "      <th>Rating</th>\n",
       "    </tr>\n",
       "  </thead>\n",
       "  <tbody>\n",
       "    <tr>\n",
       "      <th>0</th>\n",
       "      <td>not bad couple nights no nice looking hotel ou...</td>\n",
       "      <td>3</td>\n",
       "    </tr>\n",
       "    <tr>\n",
       "      <th>1</th>\n",
       "      <td>wo n't planned trip group 11 including, booked...</td>\n",
       "      <td>2</td>\n",
       "    </tr>\n",
       "  </tbody>\n",
       "</table>\n",
       "</div>"
      ],
      "text/plain": [
       "                                              Review  Rating\n",
       "0  not bad couple nights no nice looking hotel ou...       3\n",
       "1  wo n't planned trip group 11 including, booked...       2"
      ]
     },
     "execution_count": 2,
     "metadata": {},
     "output_type": "execute_result"
    }
   ],
   "source": [
    "model = SentenceTransformer('distilbert-base-nli-mean-tokens')\n",
    "\n",
    "df = pd.read_pickle(\"data/review_data.pickle\")\n",
    "df.head(2)"
   ]
  },
  {
   "cell_type": "code",
   "execution_count": 3,
   "id": "ed46d4a9",
   "metadata": {},
   "outputs": [
    {
     "name": "stderr",
     "output_type": "stream",
     "text": [
      "Batches: 100%|██████████| 223/223 [00:35<00:00,  6.35it/s]\n"
     ]
    }
   ],
   "source": [
    "embeddings = model.encode(\n",
    "    df['Review'].tolist(),\n",
    "    show_progress_bar=True,\n",
    "    convert_to_tensor=True\n",
    ")\n",
    "\n",
    "y = df.Rating.values"
   ]
  },
  {
   "cell_type": "code",
   "execution_count": 4,
   "id": "3d35dc8f",
   "metadata": {},
   "outputs": [],
   "source": [
    "x_train, x_test, y_train, y_test = train_test_split(embeddings, y, test_size=0.2)"
   ]
  },
  {
   "cell_type": "code",
   "execution_count": 11,
   "id": "04fd2e86",
   "metadata": {},
   "outputs": [],
   "source": [
    "device = torch.device(\"mps\")"
   ]
  },
  {
   "cell_type": "code",
   "execution_count": 12,
   "id": "2298aace",
   "metadata": {},
   "outputs": [
    {
     "name": "stderr",
     "output_type": "stream",
     "text": [
      "/var/folders/wq/y2b5rrtx4vsfsgrv7xvgbltm0000gn/T/ipykernel_3772/1277620119.py:9: UserWarning: To copy construct from a tensor, it is recommended to use sourceTensor.detach().clone() or sourceTensor.detach().clone().requires_grad_(True), rather than torch.tensor(sourceTensor).\n",
      "  embeddings_train = torch.tensor(x_train).to(device)\n",
      "/var/folders/wq/y2b5rrtx4vsfsgrv7xvgbltm0000gn/T/ipykernel_3772/1277620119.py:10: UserWarning: To copy construct from a tensor, it is recommended to use sourceTensor.detach().clone() or sourceTensor.detach().clone().requires_grad_(True), rather than torch.tensor(sourceTensor).\n",
      "  embeddings_test = torch.tensor(x_test).to(device)\n",
      "/var/folders/wq/y2b5rrtx4vsfsgrv7xvgbltm0000gn/T/ipykernel_3772/1277620119.py:12: UserWarning: To copy construct from a tensor, it is recommended to use sourceTensor.detach().clone() or sourceTensor.detach().clone().requires_grad_(True), rather than torch.tensor(sourceTensor).\n",
      "  y_train = torch.tensor(y_train).to(device)\n",
      "/var/folders/wq/y2b5rrtx4vsfsgrv7xvgbltm0000gn/T/ipykernel_3772/1277620119.py:13: UserWarning: To copy construct from a tensor, it is recommended to use sourceTensor.detach().clone() or sourceTensor.detach().clone().requires_grad_(True), rather than torch.tensor(sourceTensor).\n",
      "  y_test = torch.tensor(y_test).to(device)\n"
     ]
    }
   ],
   "source": [
    "def transform_labels_to_binary(y, num_classes):    \n",
    "    transformed_labels = torch.zeros(y.shape[0], num_classes-1)\n",
    "    \n",
    "    for idx, label in enumerate(y):\n",
    "        transformed_labels[idx, 0:label] = 1\n",
    "        \n",
    "    return transformed_labels\n",
    "\n",
    "embeddings_train = torch.tensor(x_train).to(device)\n",
    "embeddings_test = torch.tensor(x_test).to(device)\n",
    "\n",
    "y_train = torch.tensor(y_train).to(device)\n",
    "y_test = torch.tensor(y_test).to(device)\n",
    "\n",
    "num_classes = len(y_test.unique())\n",
    "\n",
    "transformed_labels = transform_labels_to_binary(y_train, num_classes).to(device)"
   ]
  },
  {
   "cell_type": "code",
   "execution_count": 13,
   "id": "52a17935",
   "metadata": {},
   "outputs": [],
   "source": [
    "class OrdinalClassifier(nn.Module):\n",
    "    def __init__(self, input_size, hidden_size, num_classes):\n",
    "        super(OrdinalClassifier, self).__init__()\n",
    "        \n",
    "        # define layers\n",
    "        self.fc1 = nn.Linear(input_size, hidden_size).to('mps')\n",
    "        self.fc2 = nn.Linear(hidden_size, hidden_size).to('mps')\n",
    "        self.fc3 = nn.Linear(hidden_size, num_classes - 1).to('mps')\n",
    "        \n",
    "        # independent bias \n",
    "        self.biases = nn.Parameter(torch.zeros(num_classes - 1)).to('mps')\n",
    "\n",
    "    def forward(self, x):\n",
    "        \n",
    "        # compute layer output\n",
    "        x = torch.relu(self.fc1(x))\n",
    "        x = torch.relu(self.fc2(x))\n",
    "        output = self.fc3(x)\n",
    "        \n",
    "        # add bias term\n",
    "        output += self.biases\n",
    "        \n",
    "        # return sigmoid\n",
    "        return torch.sigmoid(output)"
   ]
  },
  {
   "cell_type": "code",
   "execution_count": 14,
   "id": "72e1c0be",
   "metadata": {},
   "outputs": [],
   "source": [
    "model = OrdinalClassifier(\n",
    "    embeddings_train.shape[1],\n",
    "    30,\n",
    "    num_classes\n",
    ")\n",
    "\n",
    "criterion = nn.BCELoss()\n",
    "optimizer = torch.optim.Adam(model.parameters(), lr=0.001)"
   ]
  },
  {
   "cell_type": "code",
   "execution_count": 21,
   "id": "74f34551",
   "metadata": {},
   "outputs": [],
   "source": [
    "num_epochs = 10\n",
    "batch_size = 64\n",
    "num_batches = len(embeddings_train) // batch_size"
   ]
  },
  {
   "cell_type": "code",
   "execution_count": 22,
   "id": "9378fbc1",
   "metadata": {},
   "outputs": [
    {
     "name": "stdout",
     "output_type": "stream",
     "text": [
      "Epoch 1, Loss: 0.006, Accuracy = 0.383\n",
      "Epoch 2, Loss: 0.006, Accuracy = 0.393\n",
      "Epoch 3, Loss: 0.005, Accuracy = 0.385\n",
      "Epoch 4, Loss: 0.006, Accuracy = 0.388\n",
      "Epoch 5, Loss: 0.004, Accuracy = 0.375\n",
      "Epoch 6, Loss: 0.003, Accuracy = 0.384\n",
      "Epoch 7, Loss: 0.006, Accuracy = 0.381\n",
      "Epoch 8, Loss: 0.006, Accuracy = 0.391\n",
      "Epoch 9, Loss: 0.004, Accuracy = 0.391\n",
      "Epoch 10, Loss: 0.004, Accuracy = 0.385\n"
     ]
    }
   ],
   "source": [
    "# Training loop\n",
    "for epoch in range(num_epochs):\n",
    "    running_loss = 0.0\n",
    "    \n",
    "    # Mini-batch iteration\n",
    "    for batch in range(num_batches):\n",
    "        start_idx = batch * batch_size\n",
    "        end_idx = min((batch + 1) * batch_size, len(embeddings_train))\n",
    "        inputs = embeddings_train[start_idx:end_idx]\n",
    "        \n",
    "        # Generate binary labels for the mini-batch\n",
    "        binary_labels = transformed_labels[start_idx:end_idx]\n",
    "        \n",
    "        # Zero the parameter gradients\n",
    "        optimizer.zero_grad()\n",
    "        \n",
    "        # Forward pass\n",
    "        outputs = model(inputs)\n",
    "        \n",
    "        # Calculate the loss\n",
    "        loss = criterion(outputs, binary_labels.float())\n",
    "        \n",
    "        # Backward pass and optimization\n",
    "        loss.backward()\n",
    "        optimizer.step()\n",
    "        \n",
    "        running_loss += loss.item()\n",
    "        \n",
    "    # accuracy\n",
    "    test_outputs = model(embeddings_test)\n",
    "    test_binary = (test_outputs>0.5).to(int)\n",
    "    test_labels = torch.sum(test_binary, 1)    \n",
    "    accuracy = float(sum(test_labels == y_test)/y_test.shape[0])\n",
    "    \n",
    "    # Print average loss for each epoch\n",
    "    print(f\"Epoch {epoch+1}, Loss: {round(running_loss / num_batches, 3)}, Accuracy = {round(accuracy, 3)}\")"
   ]
  },
  {
   "cell_type": "code",
   "execution_count": null,
   "id": "97a0281c",
   "metadata": {},
   "outputs": [],
   "source": []
  }
 ],
 "metadata": {
  "kernelspec": {
   "display_name": "pytorch",
   "language": "python",
   "name": "python3"
  },
  "language_info": {
   "codemirror_mode": {
    "name": "ipython",
    "version": 3
   },
   "file_extension": ".py",
   "mimetype": "text/x-python",
   "name": "python",
   "nbconvert_exporter": "python",
   "pygments_lexer": "ipython3",
   "version": "3.11.11"
  }
 },
 "nbformat": 4,
 "nbformat_minor": 5
}
